{
 "cells": [
  {
   "cell_type": "markdown",
   "metadata": {},
   "source": [
    "# DATA 612 - Discussion 2"
   ]
  },
  {
   "cell_type": "markdown",
   "metadata": {},
   "source": [
    "### Charlie Rosemond 06.17.20\n",
    "\n",
    "\n",
    "### *Music Recommendations at Scale with Spark* - Christopher Johnson (Spotify)\n",
    "\n",
    "\n",
    "### General Takeaways\n",
    "- Making music recommendations--artist, album, song--to users is integral to Spotify's service.\n",
    "\n",
    "- There are various methods for recommendations, including manual curation, manual tagging of attributes, audio data (content, metadata, text analysis), and collaborative filtering. Christopher Johnson notes that Spotify uses the latter two methods.\n",
    "\n",
    "- Explicit matrix factorization provides a means to approximate a ratings matrix via the product of lower-dimensional user and movie (or song) matrices, with the formal goal of minimizing RMSE.\n",
    "\n",
    "- Spotify uses implicit matrix factorization, which uses binary labels (~ 1 = streamed, 0 = never streamed), given its service's lack of explicit ratings. This method is similar to its explicit counterpart, though it employs a binary term and also weights songs based upon how many times a user has streamed that song.\n",
    "\n",
    "- One method for solving implicit matrix factorization is via alternating least squares, which alternates between fixing the user vector and solving for the song vector, and vice versa, using least squares regression. The process is repeated till convergence.\n",
    "\n",
    "- As of 2014, Spotify used Hadoop to deploy implicit matrix factorization, and make music recommendations, at scale, though it increasingly encountered I/O bottlenecks. In response, Spotify explored Spark as an alternative. Initial results were positive, but as of the video, Spark was not yet in production.\n",
    "\n",
    "- Spark rendered moot reading and writing from disk with each iteration, as required by Hadoop. A ratings matrix could be read into memory, cached, and then manipulated iteratively.\n",
    "\n",
    "- The Spotify team made multiple attempts towards making its recommendations with Spark. The first was by broadcasting, which proved inefficient due to shuffling the ratings repeatedly.\n",
    "\n",
    "- Its second attempt, deemed \"full gridify\", grouped, partitioned, then cached ratings with each iteration.\n",
    "\n",
    "- Its third attempt, deemed \"half gridify\", condensed all ratings for a given user into the same block.\n",
    "\n",
    "- The Spotify team had various learnings, including using PairRDD functions, the benefits of kryo serialization, and challenges regarding running Spark with larger datasets.\n",
    "\n",
    "\n",
    "### Comments and Questions\n",
    "- The presenter glosses over the mechanics behind alternating least squares. I understand OLS but would have appreciated more of a breakdown of the application of the alternating method.\n",
    "\n",
    "- The explanation of implicit matrix factorization with Hadoop, and the associated visuals, was not intuitive for me.\n",
    "\n",
    "- I would want to dive deeper into Spotify's initial attempts with Spark.\n",
    "\n",
    "- I lack experience with Spark (and Hadoop) and thus was kind of lost with some of the terms shared in the random learnings (serializers, executors, etc.).\n",
    "\n",
    "\n",
    "##### Source\n",
    "Spark Summit. (2014, July 17). *Music Recommendations at Scale with Spark - Christopher Johnson (Spotify)*. Retrieved from https://www.youtube.com/watch?v=3LBgiFch4_g"
   ]
  }
 ],
 "metadata": {
  "kernelspec": {
   "display_name": "Python 3",
   "language": "python",
   "name": "python3"
  },
  "language_info": {
   "codemirror_mode": {
    "name": "ipython",
    "version": 3
   },
   "file_extension": ".py",
   "mimetype": "text/x-python",
   "name": "python",
   "nbconvert_exporter": "python",
   "pygments_lexer": "ipython3",
   "version": "3.7.1"
  }
 },
 "nbformat": 4,
 "nbformat_minor": 2
}
