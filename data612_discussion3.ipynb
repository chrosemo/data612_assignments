{
 "cells": [
  {
   "cell_type": "markdown",
   "metadata": {},
   "source": [
    "# DATA 612 - Discussion 3"
   ]
  },
  {
   "cell_type": "markdown",
   "metadata": {},
   "source": [
    "### Charlie Rosemond 06.25.20\n",
    "\n",
    "Any predictive model will reflect the biases of its creator(s) and the data it was trained on. Those biases may not be clear to individuals acting on a model's predictions. Regarding recommender systems, for e-commerce, the deployment of models is ostensibly towards making a new sale; for streaming, it is towards ensuring continued, stronger user engagement with a service. I am not overly concerned by these sites or services making recommendations in order to better serve their users. I am more wary of whether sites are training their models on data that are systematically biased against certain groups of users as well as whether they are using data in less obvious and less scrupulous ways.\n",
    "\n",
    "Amazon, Netflix, Spotify, and other sites/services deploying recommender systems collect the bulk of their data from past and current users, enabling creation of rich user profiles. Making recommendations to these users, using their own data or that of other past/current users, makes sense. But, for example, does Netflix's user base reflect prospective users? I expect there are systematic group differences along socio-economic lines given empirical disparities in SES and broadband internet access. Would Netflix's recommendations reflect the viewing interests of users of lower SES? Are those interests any different from those past/current users?\n",
    "\n",
    "More broadly, is Netflix user data being sold or making its way to other companies? I have ethical questions regarding how companies use individual user data. I am relatively tech savvy, and I work in data-related public policy, but I admit that I do not often read the terms and conditions associated with use of a service, like Netflix, prior to accepting those terms and conditions. I presume that a company has my interests in mind, which is naive but convenient. My data or information that informs a recommender system could follow me elsewhere online, depending upon the language buried in small print.\n",
    "\n",
    "\n",
    "##### Source\n",
    "Loukides, M., Mason, H., and Patil, D.J. (2018). *Ethics and Data Science*. O'Reilly Media."
   ]
  }
 ],
 "metadata": {
  "kernelspec": {
   "display_name": "Python 3",
   "language": "python",
   "name": "python3"
  },
  "language_info": {
   "codemirror_mode": {
    "name": "ipython",
    "version": 3
   },
   "file_extension": ".py",
   "mimetype": "text/x-python",
   "name": "python",
   "nbconvert_exporter": "python",
   "pygments_lexer": "ipython3",
   "version": "3.7.1"
  }
 },
 "nbformat": 4,
 "nbformat_minor": 2
}
