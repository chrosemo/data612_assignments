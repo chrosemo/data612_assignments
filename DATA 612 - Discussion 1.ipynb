{
 "cells": [
  {
   "cell_type": "markdown",
   "metadata": {},
   "source": [
    "# DATA 612 - Discussion 1"
   ]
  },
  {
   "cell_type": "markdown",
   "metadata": {},
   "source": [
    "### Charlie Rosemond 06.11.20\n",
    "\n",
    "\n",
    "## Discussion of Spotify\n",
    "\n",
    "### Description\n",
    "Spotify describes itself as \"a digital music service that gives you access to millions of songs\" as well as podcasts, videos, and other media content. The service offers users a choice of free and premium versions. Spotify Free allows users to shuffle songs or the like free-of-charge, while Spotify Premium is a subscription model that allows on-demand streaming and downloads.\n",
    "\n",
    "### Thoughts on Spotify's recommender system(s)\n",
    "Given Spotify's prominence in music streaming and its resulting glut of user data, I expect it deploys a combination of recommender techniques. My cursory knowledge suggests these techniques include collaborative filtering and content-based systems. Spotify collects and maintains many data on users' listening habits, whether specific artists or songs; more general listening behaviors like shuffles or repeats; or creation, curation, and sharing of playlists. And the service has these data on millions of users, making it ripe for recommenders.\n",
    "\n",
    "#### Collaborative filtering\n",
    "Collaborative filtering, wherein other, similar users' habits inform recommendations for a given user, could make real use of Spotify's massive user base. For example, user 1 and user 2 could share similar listening histories, in genres and artists. Spotify could draw upon user 2's history to recommend new artists and songs to user 1, or vice versa, under the assumption that the users' future listening habits would remain similar.\n",
    "\n",
    "#### Content-based\n",
    "Spotify has years of data on my listening habits, mainly in terms of numbers of streams but also curation of selected playlists. A content-based recommender would hinge upon my past habits informing my future ones. It would thus recommend new but similar-sounding styles, artists, and songs using some measure of similarity (e.g. cosine distance). Over time--years in my case--the recommender would feed on an increasingly large and rich set of data.\n",
    "\n",
    "\n",
    "### My experience with Spotify\n",
    "I have used Spotify for going on eight years, with the last three or so as a Premium user. I appreciate the service's UX across devices as well as the relatively expansive music library. My engagement tends more streaming songs multiple (many) times rather than marking them as \"Loved\" or adding them to playlists. I also do not engage with the social aspects of the service, like public sharing of listening activity or integration with Facebook.\n",
    "\n",
    "I only recently started listening to Discover Weekly and related personalized playlists, and I have been pleasantly surprised by how much I have enjoyed many of the recommended artists and songs.  For me, Spotify recommends a lot of ear worms. The counter is that I have not encountered many recommendations that \"stretch\" my interests towards new music genres or styles. At a high level, the nature of the personalized playlists makes sense to me. My listening habits typically dive deeper into the same genres that I have always explored, and I do not actively plug into the broader community of similar users with overlapping but also different interests.\n",
    "\n",
    "\n",
    "\n",
    "## Attacks on Recommender Systems\n",
    "I have not seen *The Promise*, but the flood of IMDb one-star ratings is not surprising given the film's subject matter. For a time I worked in Turkey as an economic researcher. As the article notes, the Armenian genocide is an extremely controversial subject; to voice criticism of the Ottoman, or ethnic Turkish, role is essentially verboten. \n",
    "\n",
    "Regarding accessible examples of \"attacks\" on other recommenders, the first that come to mind are Amazon reviews. I do not weigh e-commerce product reviews heavily in general, but my understanding is that reviews on Amazon are particularly useless. Aside from the many counterfeit products, anecdotally, I understand that some small (and more established?) sellers will spam a rival's products with poor reviews in attempts to game Amazon's algorithms. I also frequently receive messages from sellers promising discounts or free products in exchange for discreet five-star reviews that will, again, game the algorithms. These efforts are all towards pushing certain products to the first page of search results or into various other sets of recommendations. While the gamed ratings do not happen in quite the same way as the IMDb attack on *The Promise*, they seem to happen at scale.\n",
    "\n",
    "My basic solution to prevent attacks would be to monitor suspicious changes in rating activity and place negative weights on the ratings of users who drove those changes. That is, if a user was one of hundreds of thousands leaving a rating for a movie that had yet to premier, that user and the rating itself would be weighted poorly and thus less influential, relatively speaking. I would also monitor suspicious web traffic from, for example, a specific site.\n",
    "\n",
    "\n",
    "##### Sources\n",
    "Gorakala, S.K., & Usuelli, M. (2015). Building a recommendation system with R. Packt Publishing.\n",
    "\n",
    "Spotify (2020). About us. Retrieved from https://www.spotify.com/ph/about-us/contact/\n",
    "\n",
    "Andrews, T.M.(2017). Wisdom of the crowd? IMDb users gang up on Christian Bale’s new movie before it even opens. The Washington Post. Retrieved from https://www.washingtonpost.com/news/morning-mix/wp/2017/04/19/wisdom-of-the-crowd-imdb-users-gang-up-on-the-promise-before-it-even-opens/\n"
   ]
  }
 ],
 "metadata": {
  "kernelspec": {
   "display_name": "Python 3",
   "language": "python",
   "name": "python3"
  },
  "language_info": {
   "codemirror_mode": {
    "name": "ipython",
    "version": 3
   },
   "file_extension": ".py",
   "mimetype": "text/x-python",
   "name": "python",
   "nbconvert_exporter": "python",
   "pygments_lexer": "ipython3",
   "version": "3.7.1"
  }
 },
 "nbformat": 4,
 "nbformat_minor": 2
}
